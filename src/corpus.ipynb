{
 "cells": [
  {
   "cell_type": "code",
   "execution_count": 2,
   "metadata": {},
   "outputs": [],
   "source": [
    "from music21 import corpus, note, converter, corpus\n",
    "artifacts_path = \"../artifacts\""
   ]
  },
  {
   "cell_type": "code",
   "execution_count": 3,
   "metadata": {},
   "outputs": [
    {
     "data": {
      "image/png": "[encoded data removed]",
      "text/plain": [
       "<IPython.core.display.Image object>"
      ]
     },
     "metadata": {
      "image/png": {
       "height": 49,
       "width": 143
      }
     },
     "output_type": "display_data"
    }
   ],
   "source": [
    "f = note.Note(\"F5\")\n",
    "f.show()"
   ]
  },
  {
   "cell_type": "code",
   "execution_count": 7,
   "metadata": {},
   "outputs": [
    {
     "data": {
      "text/plain": [
       "'../artifacts/bach.mid'"
      ]
     },
     "execution_count": 7,
     "metadata": {},
     "output_type": "execute_result"
    }
   ],
   "source": [
    "# sequence = \"c4 e8 a8 c4 e8 g8 d4 f8 a8 d4 f8 a8 \" * 4\n",
    "# notes = sequence\n",
    "# song = \" \".join([f\"{note}4\" for note in sequence])\n",
    "# song = converter.parse(f\"tinynotation: 2/4 {notes}\")\n",
    "song = corpus.parse('bach/bwv66.6')\n",
    "# song = corpus.parse(\"mozart/k155/movement1.mxl\")\n",
    "song.write(\"midi\", f\"{artifacts_path}/bach.mid\")\n",
    "\n",
    "# song.show(\"midi\")\n",
    "# song.plot(\"histogram\", \"pitch\")"
   ]
  },
  {
   "cell_type": "code",
   "execution_count": 25,
   "metadata": {},
   "outputs": [
    {
     "data": {
      "image/png": "[encoded data removed]",
      "text/plain": [
       "<IPython.core.display.Image object>"
      ]
     },
     "metadata": {
      "image/png": {
       "height": 49,
       "width": 244
      }
     },
     "output_type": "display_data"
    }
   ],
   "source": [
    "f = note.Note(\"F4\")\n",
    "f.duration.type = \"whole\"\n",
    "f.duration.dots = 3\n",
    "f.show()"
   ]
  },
  {
   "cell_type": "code",
   "execution_count": 4,
   "metadata": {},
   "outputs": [
    {
     "name": "stdout",
     "output_type": "stream",
     "text": [
      "0 None\n",
      "1 bwv1.6.mxl\n",
      "2 bwv10.7.mxl\n",
      "3 bwv101.7.mxl\n",
      "4 bwv102.7.mxl\n",
      "5 bwv103.6.mxl\n",
      "6 bwv104.6.mxl\n",
      "7 bwv108.6.mxl\n",
      "8 bwv11.6.mxl\n",
      "9 bwv110.7.mxl\n"
     ]
    }
   ],
   "source": [
    "coreCorpus = corpus.corpora.CoreCorpus()\n",
    "searchResults = coreCorpus.search(\"bach\")[:10]\n",
    "for index, piece in enumerate([result.parse() for result in searchResults]):\n",
    "  print(f\"{index} {piece.metadata.movementName}\")"
   ]
  },
  {
   "cell_type": "code",
   "execution_count": 6,
   "metadata": {},
   "outputs": [
    {
     "data": {
      "text/plain": [
       "'../artifacts/bwv108.6.mxl.mid'"
      ]
     },
     "execution_count": 6,
     "metadata": {},
     "output_type": "execute_result"
    }
   ],
   "source": [
    "piece = searchResults[7]\n",
    "parsed = piece.parse()\n",
    "parsed.write(\"midi\", f\"{artifacts_path}/{parsed.metadata.movementName}.mid\")"
   ]
  }
 ],
 "metadata": {
  "kernelspec": {
   "display_name": "Python 3.10.4 ('music')",
   "language": "python",
   "name": "python3"
  },
  "language_info": {
   "codemirror_mode": {
    "name": "ipython",
    "version": 3
   },
   "file_extension": ".py",
   "mimetype": "text/x-python",
   "name": "python",
   "nbconvert_exporter": "python",
   "pygments_lexer": "ipython3",
   "version": "3.10.6"
  },
  "orig_nbformat": 4,
  "vscode": {
   "interpreter": {
    "hash": "31ad24c8d28b357e3c2f9bd72c37ec93a26eab8b976a8548ed98e30dd76597d4"
   }
  }
 },
 "nbformat": 4,
 "nbformat_minor": 2
}
